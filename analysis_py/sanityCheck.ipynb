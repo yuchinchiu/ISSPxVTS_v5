{
 "cells": [
  {
   "cell_type": "code",
   "execution_count": 13,
   "metadata": {
    "collapsed": true
   },
   "outputs": [],
   "source": [
    "import os\n",
    "import glob\n",
    "import pandas as pd\n",
    "import numpy as np\n",
    "from copy import copy"
   ]
  },
  {
   "cell_type": "code",
   "execution_count": 14,
   "metadata": {},
   "outputs": [],
   "source": [
    "scriptDir = os.getcwd()\n",
    "os.chdir(\"..\")\n",
    "dataDir = os.getcwd() + os.sep + 'data' + os.sep + \"v5_batches\" + os.sep\n",
    "os.chdir(scriptDir)"
   ]
  },
  {
   "cell_type": "code",
   "execution_count": 19,
   "metadata": {
    "collapsed": true
   },
   "outputs": [],
   "source": [
    "fileList     = glob.glob(dataDir +  \"*.log\")\n",
    "infofileList = glob.glob(dataDir +  \"*.txt\")\n",
    "colNames=['runId','stim','stimUnique','stimCat','trialType','swProb','task','response','sbjResp','sbjACC','sbjRT']"
   ]
  },
  {
   "cell_type": "code",
   "execution_count": 22,
   "metadata": {},
   "outputs": [
    {
     "data": {
      "text/html": [
       "<div>\n",
       "<style>\n",
       "    .dataframe thead tr:only-child th {\n",
       "        text-align: right;\n",
       "    }\n",
       "\n",
       "    .dataframe thead th {\n",
       "        text-align: left;\n",
       "    }\n",
       "\n",
       "    .dataframe tbody tr th {\n",
       "        vertical-align: top;\n",
       "    }\n",
       "</style>\n",
       "<table border=\"1\" class=\"dataframe\">\n",
       "  <thead>\n",
       "    <tr style=\"text-align: right;\">\n",
       "      <th></th>\n",
       "      <th>runId</th>\n",
       "      <th>stim</th>\n",
       "      <th>stimUnique</th>\n",
       "      <th>stimCat</th>\n",
       "      <th>trialType</th>\n",
       "      <th>swProb</th>\n",
       "      <th>task</th>\n",
       "      <th>response</th>\n",
       "      <th>sbjResp</th>\n",
       "      <th>sbjACC</th>\n",
       "      <th>sbjRT</th>\n",
       "    </tr>\n",
       "  </thead>\n",
       "  <tbody>\n",
       "    <tr>\n",
       "      <th>0</th>\n",
       "      <td>0</td>\n",
       "      <td>4</td>\n",
       "      <td>5</td>\n",
       "      <td>3</td>\n",
       "      <td>0</td>\n",
       "      <td>75</td>\n",
       "      <td>2</td>\n",
       "      <td>2</td>\n",
       "      <td>2</td>\n",
       "      <td>1</td>\n",
       "      <td>644</td>\n",
       "    </tr>\n",
       "  </tbody>\n",
       "</table>\n",
       "</div>"
      ],
      "text/plain": [
       "   runId  stim  stimUnique  stimCat  trialType  swProb  task  response  \\\n",
       "0      0     4           5        3          0      75     2         2   \n",
       "\n",
       "   sbjResp  sbjACC  sbjRT  \n",
       "0        2       1    644  "
      ]
     },
     "execution_count": 22,
     "metadata": {},
     "output_type": "execute_result"
    }
   ],
   "source": [
    "D = np.genfromtxt(fileList[0],delimiter=',',dtype=int)\n",
    "D = pd.DataFrame(np.transpose(np.reshape(D,(len(colNames),int(D.shape[0]/len(colNames))))),columns=colNames)\n",
    "D.head(1)"
   ]
  },
  {
   "cell_type": "code",
   "execution_count": 25,
   "metadata": {},
   "outputs": [
    {
     "data": {
      "text/html": [
       "<div>\n",
       "<style>\n",
       "    .dataframe thead tr:only-child th {\n",
       "        text-align: right;\n",
       "    }\n",
       "\n",
       "    .dataframe thead th {\n",
       "        text-align: left;\n",
       "    }\n",
       "\n",
       "    .dataframe tbody tr th {\n",
       "        vertical-align: top;\n",
       "    }\n",
       "</style>\n",
       "<table border=\"1\" class=\"dataframe\">\n",
       "  <thead>\n",
       "    <tr style=\"text-align: right;\">\n",
       "      <th></th>\n",
       "      <th>runId</th>\n",
       "      <th>stim</th>\n",
       "      <th>stimUnique</th>\n",
       "      <th>stimCat</th>\n",
       "      <th>trialType</th>\n",
       "      <th>swProb</th>\n",
       "      <th>task</th>\n",
       "      <th>response</th>\n",
       "      <th>sbjResp</th>\n",
       "      <th>sbjACC</th>\n",
       "      <th>sbjRT</th>\n",
       "      <th>phase</th>\n",
       "    </tr>\n",
       "  </thead>\n",
       "  <tbody>\n",
       "    <tr>\n",
       "      <th>0</th>\n",
       "      <td>0</td>\n",
       "      <td>4</td>\n",
       "      <td>5</td>\n",
       "      <td>3</td>\n",
       "      <td>0</td>\n",
       "      <td>75</td>\n",
       "      <td>2</td>\n",
       "      <td>2</td>\n",
       "      <td>2</td>\n",
       "      <td>1</td>\n",
       "      <td>644</td>\n",
       "      <td>1.0</td>\n",
       "    </tr>\n",
       "  </tbody>\n",
       "</table>\n",
       "</div>"
      ],
      "text/plain": [
       "   runId  stim  stimUnique  stimCat  trialType  swProb  task  response  \\\n",
       "0      0     4           5        3          0      75     2         2   \n",
       "\n",
       "   sbjResp  sbjACC  sbjRT  phase  \n",
       "0        2       1    644    1.0  "
      ]
     },
     "execution_count": 25,
     "metadata": {},
     "output_type": "execute_result"
    }
   ],
   "source": [
    "D.loc[D.runId<=1,'phase']=1\n",
    "D.loc[D.runId>1,'phase']=2"
   ]
  },
  {
   "cell_type": "code",
   "execution_count": 32,
   "metadata": {},
   "outputs": [
    {
     "data": {
      "text/plain": [
       "[64, 64, 64, 64]"
      ]
     },
     "execution_count": 32,
     "metadata": {},
     "output_type": "execute_result"
    }
   ],
   "source": [
    "training = D.loc[D.phase==1,:]\n",
    "tt1 = training.loc[(training.task==1) & (training.trialType==1),:]\n",
    "tt2 = training.loc[(training.task==2) & (training.trialType==1),:]\n",
    "tt3 = training.loc[(training.task==1) & (training.trialType==0),:]\n",
    "tt4 = training.loc[(training.task==2) & (training.trialType==0),:]\n",
    "[len(tt1),len(tt2),len(tt3),len(tt4)]"
   ]
  },
  {
   "cell_type": "code",
   "execution_count": 33,
   "metadata": {},
   "outputs": [
    {
     "data": {
      "text/plain": [
       "[144, 144, 144, 144]"
      ]
     },
     "execution_count": 33,
     "metadata": {},
     "output_type": "execute_result"
    }
   ],
   "source": [
    "training = D.loc[D.phase==2,:]\n",
    "tt1 = training.loc[(training.task==1) & (training.trialType==1),:]\n",
    "tt2 = training.loc[(training.task==2) & (training.trialType==1),:]\n",
    "tt3 = training.loc[(training.task==1) & (training.trialType==0),:]\n",
    "tt4 = training.loc[(training.task==2) & (training.trialType==0),:]\n",
    "[len(tt1),len(tt2),len(tt3),len(tt4)]"
   ]
  },
  {
   "cell_type": "code",
   "execution_count": 38,
   "metadata": {},
   "outputs": [
    {
     "data": {
      "text/plain": [
       "array([1, 0, 2], dtype=int64)"
      ]
     },
     "execution_count": 38,
     "metadata": {},
     "output_type": "execute_result"
    }
   ],
   "source": [
    "training.trialType.unique()"
   ]
  }
 ],
 "metadata": {
  "kernelspec": {
   "display_name": "Python 3",
   "language": "python",
   "name": "python3"
  },
  "language_info": {
   "codemirror_mode": {
    "name": "ipython",
    "version": 3
   },
   "file_extension": ".py",
   "mimetype": "text/x-python",
   "name": "python",
   "nbconvert_exporter": "python",
   "pygments_lexer": "ipython3",
   "version": "3.6.1"
  }
 },
 "nbformat": 4,
 "nbformat_minor": 2
}
