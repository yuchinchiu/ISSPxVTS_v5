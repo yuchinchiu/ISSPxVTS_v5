{
 "cells": [
  {
   "cell_type": "code",
   "execution_count": 1,
   "metadata": {
    "collapsed": true
   },
   "outputs": [],
   "source": [
    "from copy import copy\n",
    "import numpy as np\n",
    "import pandas as pd\n",
    "import matplotlib.pyplot as plt\n",
    "import seaborn as sns\n",
    "sns.set_style(\"whitegrid\")\n",
    "from scipy import stats\n",
    "from scipy.stats import norm\n",
    "%matplotlib inline"
   ]
  },
  {
   "cell_type": "code",
   "execution_count": 2,
   "metadata": {},
   "outputs": [
    {
     "name": "stdout",
     "output_type": "stream",
     "text": [
      "A total of 52 subjects\n"
     ]
    }
   ],
   "source": [
    "df = pd.read_pickle('gpData.pkl')\n",
    "NrSbj = len(df.sbjId.unique())\n",
    "#sns.distplot(df.loc[~np.isnan(df.sbjRT),'sbjRT'])\n",
    "print('A total of ' + str(NrSbj) + ' subjects')\n",
    "df.loc[df.sbjRT<250, 'sbjRT']  = np.nan\n",
    "df.loc[df.sbjRT<250, 'sbjACC'] = 0\n",
    "df.loc[df.sbjRT>1500, 'sbjRT']  = np.nan\n",
    "df.loc[df.sbjRT>1500, 'sbjACC'] = 0\n",
    "# stimulus duration was set to be 1500 ms. subj must respond within this deadline"
   ]
  },
  {
   "cell_type": "code",
   "execution_count": 3,
   "metadata": {},
   "outputs": [
    {
     "name": "stdout",
     "output_type": "stream",
     "text": [
      "After excluding subjects with poor performance: A total of 38 subjects\n"
     ]
    }
   ],
   "source": [
    "#%% do a fist pass to exclude subjects with low cued task accuracy\n",
    "goodSbj=[]\n",
    "excludeSbj=[]\n",
    "for S in np.unique(df.sbjId):\n",
    "    D = df.loc[df.sbjId==S] \n",
    "    overallCuedTSACC = D[D.trialType=='cued'].sbjACC.mean()*100\n",
    "    trainingTSACC = D[D.phase=='training'].sbjACC.mean()*100\n",
    "    overallVTS = D[D.trialType=='choice'].trialType_int.mean()*100\n",
    "    if  (overallCuedTSACC >= 80) & ( trainingTSACC >= 0) & (overallVTS >= 10):  # & (D.sbjACC.mean()*100>60):\n",
    "        goodSbj.append(S)\n",
    "    else:\n",
    "        excludeSbj.append(S)\n",
    "df_valid = pd.DataFrame(np.empty((0,0),dtype=int))\n",
    "for S in goodSbj:\n",
    "    df_valid = pd.concat([df_valid, df[df.sbjId==S]],axis=0)\n",
    "df_valid.reset_index(inplace=True)\n",
    "validSCNT = len(df_valid.sbjId.unique())\n",
    "print('After excluding subjects with poor performance: A total of ' + str(validSCNT) + ' subjects')"
   ]
  },
  {
   "cell_type": "code",
   "execution_count": 4,
   "metadata": {
    "collapsed": true
   },
   "outputs": [],
   "source": [
    "df2 = df_valid.loc[df_valid.phase=='training',:] # 256 trials/S x 38S"
   ]
  },
  {
   "cell_type": "code",
   "execution_count": 5,
   "metadata": {},
   "outputs": [
    {
     "name": "stderr",
     "output_type": "stream",
     "text": [
      "C:\\Users\\yc180\\AppData\\Local\\Continuum\\Anaconda3\\lib\\site-packages\\pandas\\core\\indexing.py:337: SettingWithCopyWarning: \n",
      "A value is trying to be set on a copy of a slice from a DataFrame.\n",
      "Try using .loc[row_indexer,col_indexer] = value instead\n",
      "\n",
      "See the caveats in the documentation: http://pandas.pydata.org/pandas-docs/stable/indexing.html#indexing-view-versus-copy\n",
      "  self.obj[key] = _infer_fill_value(value)\n",
      "C:\\Users\\yc180\\AppData\\Local\\Continuum\\Anaconda3\\lib\\site-packages\\pandas\\core\\indexing.py:517: SettingWithCopyWarning: \n",
      "A value is trying to be set on a copy of a slice from a DataFrame.\n",
      "Try using .loc[row_indexer,col_indexer] = value instead\n",
      "\n",
      "See the caveats in the documentation: http://pandas.pydata.org/pandas-docs/stable/indexing.html#indexing-view-versus-copy\n",
      "  self.obj[item] = s\n"
     ]
    }
   ],
   "source": [
    "for S in df2.sbjId.unique():    \n",
    "    for stim in [1,2,3,4,5,6,7,8]:\n",
    "        df2.loc[(df2.sbjId==S) & (df2.stimUnique==stim),'repetition'] = np.linspace( 1, 32, 32 )  "
   ]
  },
  {
   "cell_type": "code",
   "execution_count": 6,
   "metadata": {},
   "outputs": [
    {
     "data": {
      "text/plain": [
       "12.0"
      ]
     },
     "execution_count": 6,
     "metadata": {},
     "output_type": "execute_result"
    }
   ],
   "source": [
    "df3 = df2.loc[df2.repetition<=12,:] \n",
    "# repeat X times for each stim\n",
    "len(df3)/len(df3.sbjId.unique())/8"
   ]
  },
  {
   "cell_type": "code",
   "execution_count": 7,
   "metadata": {
    "scrolled": false
   },
   "outputs": [
    {
     "name": "stdout",
     "output_type": "stream",
     "text": [
      "------Group mean RT--------\n",
      "swProb  trialType_sw\n",
      "sw25%   repeat          801.728116\n",
      "        switch          911.530177\n",
      "sw75%   repeat          812.416213\n",
      "        switch          878.037141\n",
      "Name: sbjRT, dtype: float64\n"
     ]
    },
    {
     "data": {
      "image/png": "[encoded data removed]",
      "text/plain": [
       "<matplotlib.figure.Figure at 0xae27a58>"
      ]
     },
     "metadata": {},
     "output_type": "display_data"
    }
   ],
   "source": [
    "condM_rt = df3.loc[df3.sbjACC==1,:].groupby(['sbjId','swProb','trialType_sw']).sbjRT.mean().reset_index()\n",
    "# a dataframe of subject x condition \n",
    "g= sns.factorplot(x='swProb',y='sbjRT', hue='trialType_sw',data=condM_rt)\n",
    "g.set(ylim=(600, 1000))\n",
    "# Group Mean\n",
    "gpResult_ts_rt  = condM_rt.groupby(['swProb','trialType_sw']).sbjRT.mean()\n",
    "print('------Group mean RT--------')\n",
    "print(gpResult_ts_rt)"
   ]
  },
  {
   "cell_type": "code",
   "execution_count": 8,
   "metadata": {},
   "outputs": [
    {
     "data": {
      "text/plain": [
       "38"
      ]
     },
     "execution_count": 8,
     "metadata": {},
     "output_type": "execute_result"
    }
   ],
   "source": [
    "len(condM_rt.sbjId.unique())"
   ]
  },
  {
   "cell_type": "code",
   "execution_count": 9,
   "metadata": {},
   "outputs": [
    {
     "data": {
      "text/plain": [
       "38"
      ]
     },
     "execution_count": 9,
     "metadata": {},
     "output_type": "execute_result"
    }
   ],
   "source": [
    "for S in condM_rt.sbjId.unique():\n",
    "    D = condM_rt.loc[condM_rt.sbjId==S,:]\n",
    "    if (sum(np.isnan(D.sbjRT))>0) | (len(D.sbjRT)<4):\n",
    "        condM_rt.drop(condM_rt.loc[condM_rt.sbjId==S].index,inplace=True)\n",
    "len(condM_rt.sbjId.unique())"
   ]
  },
  {
   "cell_type": "code",
   "execution_count": 10,
   "metadata": {},
   "outputs": [
    {
     "name": "stdout",
     "output_type": "stream",
     "text": [
      "meanISSP = 44.18 ms\n",
      "0.0138246160123\n"
     ]
    }
   ],
   "source": [
    "rt1 = np.array(condM_rt.loc[(condM_rt.swProb=='sw25%') & (condM_rt.trialType_sw=='switch'),'sbjRT'])\n",
    "rt2 = np.array(condM_rt.loc[(condM_rt.swProb=='sw25%') & (condM_rt.trialType_sw=='repeat'),'sbjRT'])\n",
    "rt3 = np.array(condM_rt.loc[(condM_rt.swProb=='sw75%') & (condM_rt.trialType_sw=='switch'),'sbjRT'])\n",
    "rt4 = np.array(condM_rt.loc[(condM_rt.swProb=='sw75%') & (condM_rt.trialType_sw=='repeat'),'sbjRT'])\n",
    "ISSP = rt1-rt2-(rt3-rt4)\n",
    "print('meanISSP = ' + '{:.2f}'.format(ISSP.mean()) + ' ms')\n",
    "simple_inX_test = stats.ttest_rel(rt1-rt2,rt3-rt4)\n",
    "print(simple_inX_test.pvalue)"
   ]
  }
 ],
 "metadata": {
  "kernelspec": {
   "display_name": "Python 3",
   "language": "python",
   "name": "python3"
  },
  "language_info": {
   "codemirror_mode": {
    "name": "ipython",
    "version": 3
   },
   "file_extension": ".py",
   "mimetype": "text/x-python",
   "name": "python",
   "nbconvert_exporter": "python",
   "pygments_lexer": "ipython3",
   "version": "3.6.1"
  }
 },
 "nbformat": 4,
 "nbformat_minor": 2
}
